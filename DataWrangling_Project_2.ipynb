{
 "metadata": {
  "name": "",
  "signature": "sha256:1d5fc4a59bc6885ccf4a405feae3226d3e78a5170c382a85d7aa65254d718db6"
 },
 "nbformat": 3,
 "nbformat_minor": 0,
 "worksheets": [
  {
   "cells": [
    {
     "cell_type": "heading",
     "level": 1,
     "metadata": {},
     "source": [
      "Data Wrangle OpenStreetMaps Data Final Project\n"
     ]
    },
    {
     "cell_type": "heading",
     "level": 3,
     "metadata": {},
     "source": [
      "by Gino Nedilskyj (gino4cal@gmail.com)\n"
     ]
    },
    {
     "cell_type": "heading",
     "level": 3,
     "metadata": {},
     "source": [
      "5/4/2015"
     ]
    },
    {
     "cell_type": "heading",
     "level": 2,
     "metadata": {},
     "source": [
      "Map Area:  Oxnard and neighboring cities, Ca, USA\n",
      "Overpass API\n",
      "https://www.openstreetmap.org/export#map=11/34.2044/-119.0001\n",
      "\n"
     ]
    },
    {
     "cell_type": "markdown",
     "metadata": {},
     "source": [
      "    \n",
      "    I chose this map because it is the current place where I live."
     ]
    },
    {
     "cell_type": "heading",
     "level": 1,
     "metadata": {},
     "source": [
      "1. Problems Encountered in the Map"
     ]
    },
    {
     "cell_type": "markdown",
     "metadata": {},
     "source": [
      "        One of the issues I found with the data was the street names did not have standardized format.  For example, 'Ave', 'Ave.', 'Rd.', etc.  A better format would be to write out the name of the street type as in: Avenue, Road, etc.  I used a cleaning script based on a mapping dictionary to edit these street names before loading into MONGOdb.       \n",
      "        Upon loading the data to Mongodb and querying various records, I found instances of additional fields related to the US Geological Survey.  They were labeled with a prefix 'gnis:' and provided additional information about the particular node, such as County, State, Class (type of town), etc. I realized that it could be advantageous to enter these into it's own category labeled 'gnis' so I reran the JSON creation script to encode this.  After importing, I queried MONGOdb and found 1,713 records containing USGS data.  One of the advantages is that these gnis records contain an ID that can be referenced on the USGS site to obtain more information.  Below is an example of a typical record with the new 'gnis' category implemented.\n",
      "        While studying the quality of the 'amenity' data and as an avid lover of the outdoors, I naturally looked up park information only to be disappointed to find out no parks inventoried under the 'amenity' label.  This was very surprising as people went through the trouble of labeling 'parking lots' but not one park was listed.  This led me to query for names ending in \" Park\".  I found that with the exception of just a few records that were either Mobile or Trailer parks, this query was quite accurate in pulling out recreational parks.  A python script can be written to pull these park records into a 'park' label for the final JSON file loaded into MONGOdb.  \n",
      "        Another observation I found is that the majority of documents do not have a 'name' field.  Only 4% of the 272k documents in this map load have a 'names' field, only 0.4% if you count only 'node' types. I am not certain if that is within the average limits of a typical map but it seems very low.  I can assume user activity or inactivity is what determines the level of completeness of 'name' data.  Also, I assume that rural and suburban towns such as those in my map may not have the same level of user activity as would a metro downtown area.  \n",
      "    \n",
      "    "
     ]
    },
    {
     "cell_type": "code",
     "collapsed": false,
     "input": [
      "'''Below is an example of the modified structure I implemented after finding that some records had USGS information.\n",
      "I added a 'gnis' category with subdocuments showing the different attributes of the gnis record.''' \n",
      "import pprint\n",
      "\n",
      "pprint.pprint({\"name\": \"Newbury Park\", \"created\": {\"changeset\": \"145015\", \"user\": \"davidearl\", \"version\": \"2\", \"uid\": \"3582\", \"timestamp\": \"2008-12-06T13:35:08Z\"}, \"import_uuid\": \"bb7269ee-502a-5391-8056-e3ce0e66489c\", \"pos\": [34.184172, -118.9106525], \"ele\": \"190\", \"place\": \"hamlet\", \"gnis\": {\"ST_alpha\": \"CA\", \"Class\": \"Populated Place\", \"County\": \"Ventura\", \"County_num\": \"111\", \"id\": \"1661102\", \"ST_num\": \"06\"}, \"type\": \"node\", \"id\": \"150938253\", \"is_in\": \"Ventura,California,Calif.,CA,USA\"})\n"
     ],
     "language": "python",
     "metadata": {},
     "outputs": [
      {
       "output_type": "stream",
       "stream": "stdout",
       "text": [
        "{'created': {'changeset': '145015',\n",
        "             'timestamp': '2008-12-06T13:35:08Z',\n",
        "             'uid': '3582',\n",
        "             'user': 'davidearl',\n",
        "             'version': '2'},\n",
        " 'ele': '190',\n",
        " 'gnis': {'Class': 'Populated Place',\n",
        "          'County': 'Ventura',\n",
        "          'County_num': '111',\n",
        "          'ST_alpha': 'CA',\n",
        "          'ST_num': '06',\n",
        "          'id': '1661102'},\n",
        " 'id': '150938253',\n",
        " 'import_uuid': 'bb7269ee-502a-5391-8056-e3ce0e66489c',\n",
        " 'is_in': 'Ventura,California,Calif.,CA,USA',\n",
        " 'name': 'Newbury Park',\n",
        " 'place': 'hamlet',\n",
        " 'pos': [34.184172, -118.9106525],\n",
        " 'type': 'node'}\n"
       ]
      }
     ],
     "prompt_number": 1
    },
    {
     "cell_type": "heading",
     "level": 3,
     "metadata": {},
     "source": [
      "Amenity Data for Parks"
     ]
    },
    {
     "cell_type": "markdown",
     "metadata": {},
     "source": [
      "    Counts of amenities sorted high to low (python aggregation pipeline code)\n",
      "    \n",
      "    [{'$match':{'amenity':{'$exists':1}}},\n",
      "                {'$group': {'_id': '$amenity',\n",
      "                            'count':{'$sum': 1}}},\n",
      "                {'$sort':{'count':-1}}]\n",
      "                \n",
      "    u'result': [{u'_id': u'parking', u'count': 279},\n",
      "             {u'_id': u'place_of_worship', u'count': 196},\n",
      "             {u'_id': u'school', u'count': 181},\n",
      "             {u'_id': u'telephone', u'count': 96},\n",
      "             {u'_id': u'restaurant', u'count': 71},\n",
      "             {u'_id': u'fast_food', u'count': 55},\n",
      "             {u'_id': u'fuel', u'count': 25},\n",
      "             {u'_id': u'fire_station', u'count': 19},\n",
      "             {u'_id': u'bank', u'count': 18},\n",
      "             {u'_id': u'cafe', u'count': 16},\n",
      "             {u'_id': u'hospital', u'count': 16},\n",
      "             ..."
     ]
    },
    {
     "cell_type": "markdown",
     "metadata": {},
     "source": [
      "    Count of records with blank amenity but name ends with \" Park\" (python aggregation pipeline code):\n",
      "    \n",
      "    [{'$match':{'name':{'$regex':' Park$'},\n",
      "                           'type':'node',\n",
      "                           'amenity':{'$exists':0}}},\n",
      "                {'$project':{'_id': 0,\n",
      "                             'name':'$name',\n",
      "                             'user':'$created.user',\n",
      "                             'gnis_feature':'$gnis.feature_id'}}]\n",
      "                             \n",
      "                             \n",
      "                             \n",
      "    u'result': [{u'name': u'Royal Palms Mobile Home Park',\n",
      "              u'user': u'davidearl'},\n",
      "             {u'name': u'Newbury Park', u'user': u'davidearl'},\n",
      "             {u'name': u'Lamplighter Mobile Home Park', u'user': u'Bribunk'},\n",
      "             {u'name': u'Conejo Valley Trailer Park', u'user': u'davidearl'},\n",
      "             {u'name': u'Rancho Santa Paul Mobile Home Park',\n",
      "              u'user': u'davidearl'},\n",
      "             {u'name': u'Foster Park', u'user': u'davidearl'},\n",
      "             {u'name': u'Pleasant Valley Mobile Home Park',\n",
      "              u'user': u'davidearl'},\n",
      "             {u'gnis_feature': u'240056',\n",
      "              u'name': u'Camarillo Oak Grove County Park',\n",
      "              u'user': u'iandees'},\n",
      "             {u'gnis_feature': u'242929',\n",
      "              u'name': u'Grant Memorial Park',\n",
      "              u'user': u'iandees'},\n",
      "             {u'gnis_feature': u'245917',\n",
      "             ..."
     ]
    },
    {
     "cell_type": "heading",
     "level": 1,
     "metadata": {},
     "source": [
      "2. Data Overview"
     ]
    },
    {
     "cell_type": "heading",
     "level": 4,
     "metadata": {},
     "source": [
      "Basic stats of the data:"
     ]
    },
    {
     "cell_type": "markdown",
     "metadata": {},
     "source": [
      "    File sizes:\n",
      "    map.osm - 56.7 Mb\n",
      "    map.json - 62.0 Mb"
     ]
    },
    {
     "cell_type": "markdown",
     "metadata": {},
     "source": [
      "    # of Documents\n",
      "        db.oxnard.find().count()\n",
      "        272,493"
     ]
    },
    {
     "cell_type": "markdown",
     "metadata": {},
     "source": [
      "    # of Nodes\n",
      "        db.oxnard.find({'type':'node'}).count()\n",
      "        255,593\n",
      "        \n",
      "    \n"
     ]
    },
    {
     "cell_type": "markdown",
     "metadata": {},
     "source": [
      "    # of Ways\n",
      "        db.oxnard.find({'type':'way'}).count()\n",
      "        16,900"
     ]
    },
    {
     "cell_type": "heading",
     "level": 4,
     "metadata": {},
     "source": [
      "Populations of towns within map area (python aggregation pipeline code):"
     ]
    },
    {
     "cell_type": "markdown",
     "metadata": {},
     "source": [
      "    \n",
      "        [{'$match':{'population':{'$exists':1}}},\n",
      "                {'$project': {'_id': '$name',\n",
      "                            'population':'$population'}},  \n",
      "                {'$group':{'_id':'$_id',\n",
      "                           \n",
      "                           'population':{'$max':'$population'}}},\n",
      "                    {'$sort':{'population':-1}}]\n",
      "    \n",
      "    {u'ok': 1.0,\n",
      "     u'result': [{u'_id': u'Camarillo', u'population': u'62489'},\n",
      "             {u'_id': u'Santa Paula', u'population': u'28531'},\n",
      "             {u'_id': u'Port Hueneme', u'population': u'21814'},\n",
      "             {u'_id': u'Oxnard', u'population': u'184463'},\n",
      "             {u'_id': u'Ventura', u'population': u'106096'}]}"
     ]
    },
    {
     "cell_type": "heading",
     "level": 4,
     "metadata": {},
     "source": [
      "Counts of users (python aggregation pipeline code):"
     ]
    },
    {
     "cell_type": "markdown",
     "metadata": {},
     "source": [
      "    [{'$match':{'created.user':{'$exists':1}}},\n",
      "            {'$group': {'_id': '$created.user',\n",
      "                        'count':{'$sum': 1}}},\n",
      "            {'$sort':{'count':-1}}]\n",
      "                \n",
      "             [{u'_id': u'woodpeck_fixbot', u'count': 126978},\n",
      "             {u'_id': u'msebast', u'count': 36899},\n",
      "             {u'_id': u'DMaximus', u'count': 22987},\n",
      "             {u'_id': u'nmixter', u'count': 18627},\n",
      "             {u'_id': u'AM909', u'count': 10644},\n",
      "             {u'_id': u'balrog-kun', u'count': 4766},\n",
      "             {u'_id': u'Sat', u'count': 4298},\n",
      "             {u'_id': u'California Bear', u'count': 3445}\n",
      "             ..."
     ]
    },
    {
     "cell_type": "heading",
     "level": 4,
     "metadata": {},
     "source": [
      "Sorted Frequence of Cuisine types (python aggregation pipeline code)"
     ]
    },
    {
     "cell_type": "markdown",
     "metadata": {},
     "source": [
      "    pipeline = [{'$match':{'$or':[{'amenity':'fast_food'},{'amenity':'restaurant'}, {'amenity':'cafe'}],'cuisine':{'$exists':1}}},\n",
      "                {'$group': {'_id': '$cuisine',\n",
      "                            'count':{'$sum': 1}}},\n",
      "                {'$sort':{'count':-1}},\n",
      "                {'$limit': 25}]"
     ]
    },
    {
     "cell_type": "markdown",
     "metadata": {},
     "source": [
      "    u'result': [{u'_id': u'burger', u'count': 19},\n",
      "             {u'_id': u'coffee_shop', u'count': 8},\n",
      "             {u'_id': u'american', u'count': 8},\n",
      "             {u'_id': u'pizza', u'count': 7},\n",
      "             {u'_id': u'chinese', u'count': 6},\n",
      "             {u'_id': u'mexican', u'count': 5},\n",
      "             {u'_id': u'sushi', u'count': 4},\n",
      "             {u'_id': u'chicken', u'count': 4},\n",
      "             {u'_id': u'sandwich', u'count': 4},\n",
      "             {u'_id': u'thai', u'count': 3},\n",
      "             {u'_id': u'seafood', u'count': 2},\n",
      "             {u'_id': u'indian', u'count': 2},\n",
      "             {u'_id': u'ice_cream', u'count': 2},\n",
      "             ..."
     ]
    },
    {
     "cell_type": "heading",
     "level": 1,
     "metadata": {},
     "source": [
      "3. Additional Ideas"
     ]
    },
    {
     "cell_type": "markdown",
     "metadata": {},
     "source": [
      "        I noticed that the amenity field is missing in large part,  1,107 / 272,493, or 0.4% or records. I also noticed that many times the amenity type can be derived from the 'name' field itself.  For example, a record with name \"Driffil Elementary School\" can be assumed that it is a school.  To further clean the data, I can see how it would be useful to make a list of the most common types of words that can be associated to an amenity and write a python script to detect these strings in the 'name' field and appropriately update the 'amenity' field when blank.  For example, if the word \"Park\" is found in the name string, we can associate and assign 'amenity' = 'park' to that node.\n",
      "        However, a possible problem with this solution is that however comprehensive we can make the list of common words, there is a chance that these words may be embedded in a name where it may not be related to the association we are trying to make.  For example, the 'park' example, I found instances in the data like \"Royal Palms Mobile Home Park\".  This obviously is not a recreational park and should not be associated as such.  Even though we can probably mitigate this somewhat by creating a list of container words that would exempt the association (such as if the name contains 'Mobile' or 'Trailer'), this approach is starting to look less feasible in terms of accuracy.  \n",
      "        Further, a better solution would be to find a gold standard 'yellow pages' type source API to look up matching 'name' fields and return more information like 'amenity' type.  This implemenation may have drawbacks though.  First, \n",
      "        In counting the frequency of user appearances, it's apparent there are automatic processes out there making updates to OpenStreetMap data.  Specifically, user 'wookpeck_fixbot' accounted for about 47% of the entries.  \n",
      "        I also noticed that some attributes of town nodes contained US census data in the form 'year;population'.  This could be another opportunity to create a 'census' category with a dictionary of key-value pairs corresponding to the year and population. Apparently, there is only data for the 2006 US Census in our dataset.  I am sure previous census numbers are available from the US government web sites.  \n",
      "        The issue is that it would only be in web report format, which is not directly or easily transferred to our data.  To resolve this, a script using Beautiful Soup HTML parser can be created to scrape this information from the websites for the towns in our dataset.  This would be useful when dealing with State sized maps where hundreds or thousands of towns and cities would have to be looked up.  \n",
      "        Regarding the USGS data that is embedded, the gnis ID can be utilized to create a URL that can also be stored in the database.  This could be useful in data queries where you can call the URL directly for a particular node and be directed to the USGS website for more information on that node.  \n",
      "        In conclusion, this data set shows low information in terms of 'name' and 'amenity' fields.  This can be explained as lower user base participation in rural/suburban areas.  A 'bot' user uploaded almost half of the node data available.  It's possible to provide value to map data. As mentioned, I added a new category 'gnis' to store USGS information I found in the data.  Also, I would like at one point to add the recreational park data that is missing from the amenity field."
     ]
    },
    {
     "cell_type": "code",
     "collapsed": false,
     "input": [],
     "language": "python",
     "metadata": {},
     "outputs": []
    }
   ],
   "metadata": {}
  }
 ]
}