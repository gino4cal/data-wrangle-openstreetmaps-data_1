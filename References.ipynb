{
 "metadata": {
  "name": "",
  "signature": "sha256:e8dbeed28f39bbd8b683c300b416a74f1141acb0cfbfd3082ecf49c651cadfae"
 },
 "nbformat": 3,
 "nbformat_minor": 0,
 "worksheets": [
  {
   "cells": [
    {
     "cell_type": "heading",
     "level": 1,
     "metadata": {},
     "source": [
      "References for Project 2"
     ]
    },
    {
     "cell_type": "markdown",
     "metadata": {},
     "source": [
      "    https://docs.python.org/2/library/xml.etree.elementtree.html\n",
      "\n",
      "    https://www.mongodb.org/\n",
      "\n",
      "    https://docs.python.org/2/library/re.html"
     ]
    },
    {
     "cell_type": "markdown",
     "metadata": {},
     "source": []
    }
   ],
   "metadata": {}
  }
 ]
}